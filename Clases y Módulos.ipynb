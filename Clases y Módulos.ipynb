{
 "cells": [
  {
   "cell_type": "code",
   "execution_count": 106,
   "metadata": {},
   "outputs": [],
   "source": [
    "\n",
    "class Humano(): #Creamos la clase Humano\n",
    "    def __init__(self, edad, nombre, ocupacion,horas_laboradas): #Definimos el parámetro edad , nombre y ocupación\n",
    "        self.edad = edad # Definimos que el atributo edad, sera la edad asignada\n",
    "        self.nombre = nombre # Definimos que el atributo nombre, sera el nombre asig\n",
    "        self.ocupacion = ocupacion #DEFINIMOS EL ATRIBUTO DE INSTANCIA OCUPACIÓN\n",
    "        self.horas=horas_laboradas\n",
    "        self.dia=0 #Iniciamos en el día 0\n",
    "        \n",
    "        \n",
    "        #Creación de un nuevo método\n",
    "    def presentar(self):\n",
    "        presentacion = (\"Hola soy {name}, mi edad es {age} y mi ocupación es {ocu}\") #Mensaje\n",
    "        print(presentacion.format(name=self.nombre, age=self.edad, ocu=self.ocupacion)) #Usamos FORMAT\n",
    "        \n",
    "    def dias_transcurridos(self,n):\n",
    "        if self.ocupacion!= 'Desocupado':\n",
    "            self.dia=self.dia+n\n",
    "            self.horas=self.horas+n*8\n",
    "            print('Has trabajado',self.horas,'horas')\n",
    "        else:\n",
    "            self.dia=self.dia+n\n",
    "            print('Desde el día 0, han transcurrido',self.dia,'días' )\n",
    "        \n",
    "        #Creamos un nuevo método para cambiar la ocupación:\n",
    "        #En caso que esta persona sea contratada\n",
    "        \n",
    "    def contratar(self, puesto): #añadimos un nuevo parámetro en el método\n",
    "        self.puesto = puesto\n",
    "        print (\"{name} ha sido contratado como {vac}\".format(name=self.nombre, vac=self.puesto))\n",
    "        self.ocupacion = puesto#Ahora cambiamos el atributo ocupación\n",
    "    \n",
    "    def actividad(self, puesto): \n",
    "        self.puesto = puesto\n",
    "        print (\"{name} ha sido contratado como {vac}\".format(name=self.nombre, vac=self.puesto))\n",
    "        self.ocupacion = puesto#Ahora cambiamos el atributo ocupación\n",
    "        \n",
    "    def actividad(self, rama): \n",
    "        self.rama = rama\n",
    "        print (\"{name} ha trabajado en la rama de actividad {vac}\".format(name=self.nombre, vac=self.rama))\n",
    "        self.ocupacion = rama#Ahora cambiamos el atributo ocupación\n",
    "    \n",
    "    def pension(self):\n",
    "        if self.sexo=='hombre':\n",
    "            if self.edad==62:\n",
    "                print(\"{name} ya te puedes pensionar\".format(name=self.nombre))\n",
    "            elif self.edad<62:\n",
    "                self.a=62-self.edad\n",
    "                print(\"{name} te faltan {a} años para que te pensiones\".format(name=self.nombre,a=self.a))\n",
    "            else:\n",
    "                self.b=self.edad-62\n",
    "                print(\"{name} llevas {a} años pensionado\".format(name=self.nombre,a=self.b))\n",
    "        \n",
    "    def cumplio_anios(self,n):\n",
    "        self.n = n\n",
    "        if self.n== 'si':\n",
    "            self.edad=self.edad+1\n",
    "            print(\"Feliz cumpleaños te deseamos a ti, {name}\".format(name=self.nombre))\n",
    "        else:\n",
    "            print(\"Tu edad es {edad}, {name}\".format(name=self.nombre,edad=self.edad))\n",
    "\n",
    "            \n",
    "\n",
    "            \n",
    "            \n",
    "        \n",
    "      \n"
   ]
  },
  {
   "cell_type": "code",
   "execution_count": null,
   "metadata": {},
   "outputs": [],
   "source": [
    "Persona1.pension(20)"
   ]
  },
  {
   "cell_type": "code",
   "execution_count": 96,
   "metadata": {},
   "outputs": [
    {
     "name": "stdout",
     "output_type": "stream",
     "text": [
      "Desde el día 0, han transcurrido 20 días\n"
     ]
    }
   ],
   "source": [
    "Persona1.dias_transcurridos(20)"
   ]
  },
  {
   "cell_type": "code",
   "execution_count": 97,
   "metadata": {},
   "outputs": [
    {
     "name": "stdout",
     "output_type": "stream",
     "text": [
      "Pedro ha sido contratado como Obrero\n"
     ]
    }
   ],
   "source": [
    "Persona1.contratar(\"Obrero\")"
   ]
  },
  {
   "cell_type": "code",
   "execution_count": 98,
   "metadata": {},
   "outputs": [
    {
     "name": "stdout",
     "output_type": "stream",
     "text": [
      "Pedro ha trabajado en la rama de actividad Construcción\n"
     ]
    }
   ],
   "source": [
    "Persona1.actividad(\"Construcción\")"
   ]
  },
  {
   "cell_type": "code",
   "execution_count": 77,
   "metadata": {},
   "outputs": [
    {
     "name": "stdout",
     "output_type": "stream",
     "text": [
      "Hola soy Pedro, mi edad es 31 y mi ocupación es Obrero\n"
     ]
    }
   ],
   "source": [
    "Persona1.presentar()"
   ]
  },
  {
   "cell_type": "code",
   "execution_count": 78,
   "metadata": {},
   "outputs": [
    {
     "name": "stdout",
     "output_type": "stream",
     "text": [
      "Pedro ha sido contratado como Contador\n"
     ]
    }
   ],
   "source": [
    "Persona1.contratar('Contador')"
   ]
  },
  {
   "cell_type": "code",
   "execution_count": 79,
   "metadata": {},
   "outputs": [
    {
     "name": "stdout",
     "output_type": "stream",
     "text": [
      "Has trabajado 160 horas\n"
     ]
    }
   ],
   "source": [
    "Persona1.dias_transcurridos(20)"
   ]
  },
  {
   "cell_type": "code",
   "execution_count": 80,
   "metadata": {},
   "outputs": [
    {
     "name": "stdout",
     "output_type": "stream",
     "text": [
      "Hola soy Pedro, mi edad es 31 y mi ocupación es Contador\n"
     ]
    }
   ],
   "source": [
    "Persona1.presentar()"
   ]
  },
  {
   "cell_type": "code",
   "execution_count": 81,
   "metadata": {},
   "outputs": [
    {
     "name": "stdout",
     "output_type": "stream",
     "text": [
      "Tu edad es 31, Pedro\n"
     ]
    }
   ],
   "source": [
    "Persona1.cumplio_anios('no')"
   ]
  },
  {
   "cell_type": "code",
   "execution_count": 82,
   "metadata": {},
   "outputs": [
    {
     "name": "stdout",
     "output_type": "stream",
     "text": [
      "Hola soy Pedro, mi edad es 31 y mi ocupación es Contador\n"
     ]
    }
   ],
   "source": [
    "Persona1.presentar()"
   ]
  },
  {
   "cell_type": "code",
   "execution_count": 83,
   "metadata": {},
   "outputs": [
    {
     "data": {
      "application/vnd.jupyter.widget-view+json": {
       "model_id": "3243b38bddb741529204c1519348282d",
       "version_major": 2,
       "version_minor": 0
      },
      "text/plain": [
       "interactive(children=(IntSlider(value=10, description='n', max=30, min=-10), Output()), _dom_classes=('widget-…"
      ]
     },
     "metadata": {},
     "output_type": "display_data"
    },
    {
     "data": {
      "text/plain": [
       "<function ipywidgets.widgets.interaction._InteractFactory.__call__.<locals>.<lambda>(*args, **kwargs)>"
      ]
     },
     "execution_count": 83,
     "metadata": {},
     "output_type": "execute_result"
    }
   ],
   "source": [
    "from ipywidgets import interact\n",
    "\n",
    "interact(Persona1.dias_transcurridos,n=10)"
   ]
  },
  {
   "cell_type": "markdown",
   "metadata": {},
   "source": [
    "## Módulos\n",
    "\n",
    "Como ven, en algunas ocasiones, veamos el ejemplo Fracción, la cantidad de código puede ser inmanejable. Además, con una reinicialización del nucleo o un bloqueo se pueden perder las definiciones previas. Para evitar este problema creamos módulos, archivos externos con extensión .py que podemos importar a nuestros cuadernos.\n",
    "\n",
    "Para este ejercicio usaremos el archivo fibo.py y usaremos las funciones alojadas en él, para importar sin problemas el archivo fibo.py debe estar en la misma carpeta del cuaderno:\n",
    "\n"
   ]
  },
  {
   "cell_type": "code",
   "execution_count": 22,
   "metadata": {},
   "outputs": [],
   "source": [
    "import fibo"
   ]
  },
  {
   "cell_type": "code",
   "execution_count": 23,
   "metadata": {},
   "outputs": [
    {
     "name": "stdout",
     "output_type": "stream",
     "text": [
      "1\n",
      "1\n",
      "2\n",
      "3\n",
      "5\n",
      "8\n",
      "13\n",
      "21\n",
      "34\n",
      "55\n",
      "89\n",
      "144\n",
      "233\n",
      "377\n",
      "610\n",
      "987\n",
      "None\n"
     ]
    }
   ],
   "source": [
    "print(fibo.fib(1000))"
   ]
  },
  {
   "cell_type": "code",
   "execution_count": null,
   "metadata": {},
   "outputs": [],
   "source": [
    "fibo.fib2(100)"
   ]
  },
  {
   "cell_type": "code",
   "execution_count": null,
   "metadata": {},
   "outputs": [],
   "source": [
    "fibo.constante"
   ]
  },
  {
   "cell_type": "code",
   "execution_count": null,
   "metadata": {},
   "outputs": [],
   "source": [
    "dir(fibo)"
   ]
  },
  {
   "cell_type": "code",
   "execution_count": null,
   "metadata": {},
   "outputs": [],
   "source": [
    "?fibo.constante"
   ]
  }
 ],
 "metadata": {
  "kernelspec": {
   "display_name": "Python 3",
   "language": "python",
   "name": "python3"
  },
  "language_info": {
   "codemirror_mode": {
    "name": "ipython",
    "version": 3
   },
   "file_extension": ".py",
   "mimetype": "text/x-python",
   "name": "python",
   "nbconvert_exporter": "python",
   "pygments_lexer": "ipython3",
   "version": "3.8.8"
  },
  "toc": {
   "base_numbering": 1,
   "nav_menu": {},
   "number_sections": false,
   "sideBar": true,
   "skip_h1_title": false,
   "title_cell": "Table of Contents",
   "title_sidebar": "Contents",
   "toc_cell": false,
   "toc_position": {},
   "toc_section_display": true,
   "toc_window_display": false
  }
 },
 "nbformat": 4,
 "nbformat_minor": 4
}
